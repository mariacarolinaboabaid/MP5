{
  "nbformat": 4,
  "nbformat_minor": 0,
  "metadata": {
    "colab": {
      "provenance": [],
      "authorship_tag": "ABX9TyNw1gedDrD6duSufaYebfnC",
      "include_colab_link": true
    },
    "kernelspec": {
      "name": "python3",
      "display_name": "Python 3"
    },
    "language_info": {
      "name": "python"
    }
  },
  "cells": [
    {
      "cell_type": "markdown",
      "metadata": {
        "id": "view-in-github",
        "colab_type": "text"
      },
      "source": [
        "<a href=\"https://colab.research.google.com/github/mariacarolinaboabaid/MP5/blob/main/MP5.ipynb\" target=\"_parent\"><img src=\"https://colab.research.google.com/assets/colab-badge.svg\" alt=\"Open In Colab\"/></a>"
      ]
    },
    {
      "cell_type": "code",
      "source": [
        "# TÍTULO DA PRÁTICA: COLOCANDO TUDO EM ORDEM E GUARDANDO\n",
        "\n",
        "# Nome do Aluno: Maria Carolina Knudsen Boabaid\n",
        "# Nome do Campus: Estácio Polo Ingleses\n",
        "# Nome da Disciplina: Colocando tudo em ordem e guardando\n",
        "# Turma do Semestre 22.3\n",
        "#\n",
        "\n",
        "# Objetivo da prática: \n",
        "# A) O primeiro objetivo da prática é aprender a gerar dados aleatórios (nome e pontuação) por meio da biblioteca Faker. \n",
        "# B) O segundo e terceiro objetivo são respectivamente, guardar estes dados em um arquivo de texto e recuperá-los do arquivo de texto, no presente trabalho, esta tarefa foi realizada através da biblioteca Pandas.\n",
        "# C) O quarto objetivo é gerar, com os dados de pontuação recuperados do arquivo de texto, um histograma que demonstre a probabilidade de chance de cada pontuação.\n",
        "# D) O quinto e último objetivo é gerar uma nuvem de palavras com as pontuações recuperadas na forma escrita.\n",
        "\n",
        "# Questionamentos:\n",
        "# 1) Qual a importância de trabalhar com arquivos de texto? \n",
        "# A importância é saber trabalhar com dados que não estão declarados em nosso código, de forma que aprendemos a trabalhar com banco de dados e arquivos externos.\n",
        "# 2) Qual a importância de visualizar os dados em um histograma?\n",
        "# O histograma auxilia na visualização dos dados, trazendo ao usuário informações visuais dos dados, facilitando a sua análise e percepção.\n",
        "# 3) O que significa a visualização por nuvem de palavras?\n",
        "# É outro método de visualização de dados, que apresenta a frequeência que determinadas palavras aparecem em uma amostra de dados.\n"
      ],
      "metadata": {
        "id": "BcGPv6ZcqUYU"
      },
      "execution_count": null,
      "outputs": []
    },
    {
      "cell_type": "code",
      "source": [
        "# INSTALAÇÃO\n",
        "!pip install faker\n",
        "!pip install wordcloud\n",
        "!pip install num2words"
      ],
      "metadata": {
        "id": "9Tww3XXK-iGQ"
      },
      "execution_count": null,
      "outputs": []
    },
    {
      "cell_type": "code",
      "source": [
        "# IMPORTES\n",
        "from pandas import *\n",
        "from faker import Faker\n",
        "import matplotlib.pyplot as plt\n",
        "from num2words import num2words\n",
        "from wordcloud import WordCloud"
      ],
      "metadata": {
        "id": "srLkaVQA6jsr"
      },
      "execution_count": null,
      "outputs": []
    },
    {
      "cell_type": "code",
      "execution_count": null,
      "metadata": {
        "id": "TNLmH4q-pHGD",
        "colab": {
          "base_uri": "https://localhost:8080/"
        },
        "outputId": "2ac90ce3-960d-4ce7-92f6-4976c8ab69b6"
      },
      "outputs": [
        {
          "output_type": "stream",
          "name": "stdout",
          "text": [
            "{'Nome': ['Alícia Freitas', 'Eduarda da Paz', 'Maria Luiza Cavalcanti', 'Noah Ramos', 'Dr. Vicente Santos', 'Melissa Nunes', 'Valentina Martins', 'Ana Vitória Aragão', 'Luiza Teixeira', 'João Miguel Azevedo'], 'Pontuacao': [0, 3, 3, 3, 6, 3, 3, 7, 0, 10]}\n"
          ]
        }
      ],
      "source": [
        "# GERAÇÃO DE DADOS\n",
        "fake = Faker(\"pt_BR\")\n",
        "dados = {}\n",
        "nomes = []\n",
        "pontuacao = []\n",
        "\n",
        "for i in range(1, 11):\n",
        "    nomes.append(fake.name())\n",
        "    pontuacao.append(fake.random_int(0,10))\n",
        "\n",
        "dados[\"Nome\"] = nomes\n",
        "dados[\"Pontuacao\"] = pontuacao\n",
        "print(dados)"
      ]
    },
    {
      "cell_type": "code",
      "source": [
        "# GRAVANDO DADOS EM UM ARQUIVO DE TEXTO\n",
        "dadosFrame = pandas.DataFrame(data=dados)\n",
        "dadosFrame.to_csv(\"dadosMP5.csv\", index=False)"
      ],
      "metadata": {
        "id": "ethlBwyfrcWG"
      },
      "execution_count": null,
      "outputs": []
    },
    {
      "cell_type": "code",
      "source": [
        "# RECUPERANDO OS DADOS DE UM ARQUIVO DE TEXTO\n",
        "lendoArquivo = pandas.read_csv(\"dadosMP5.csv\")\n",
        "\n",
        "# EXTRAINDO OS DADOS DO ARQUIVO PARA O HISTOGRAMA\n",
        "pontuacaoColuna = lendoArquivo['Pontuacao']\n",
        "pontuacaoArquivo = []\n",
        "\n",
        "for item in pontuacaoColuna:\n",
        "  pontuacaoArquivo.append(item)\n",
        "print(pontuacaoArquivo)"
      ],
      "metadata": {
        "colab": {
          "base_uri": "https://localhost:8080/"
        },
        "id": "4dwI3YcwrfSY",
        "outputId": "c0202ebd-48b8-4c2f-889b-69e210c84b3f"
      },
      "execution_count": null,
      "outputs": [
        {
          "output_type": "stream",
          "name": "stdout",
          "text": [
            "[0, 3, 3, 3, 6, 3, 3, 7, 0, 10]\n"
          ]
        }
      ]
    },
    {
      "cell_type": "code",
      "source": [
        "# HISTOROGRAMA DAS PONTUAÇÕES\n",
        "plt.hist(pontuacaoArquivo, bins=11, density=True)\n",
        "plt.xlabel(\"Pontuações\")\n",
        "plt.ylabel(\"Probabilidade\")\n",
        "plt.title(\"Histograma das Pontuações\")\n",
        "plt.grid(True)\n",
        "plt.show()"
      ],
      "metadata": {
        "colab": {
          "base_uri": "https://localhost:8080/",
          "height": 295
        },
        "id": "kRpQQmI5rhw_",
        "outputId": "9ddf6abd-404d-440a-c18f-f7824f098498"
      },
      "execution_count": null,
      "outputs": [
        {
          "output_type": "display_data",
          "data": {
            "text/plain": [
              "<Figure size 432x288 with 1 Axes>"
            ],
            "image/png": "[encoded data removed]"
          },
          "metadata": {
            "needs_background": "light"
          }
        }
      ]
    },
    {
      "cell_type": "code",
      "source": [
        "# VISUALIZAÇÃO EM NUVEM DAS PONTUAÇÕES\n",
        "pontuacaoEscrita = \" \"\n",
        "\n",
        "for item in pontuacaoArquivo:\n",
        "  itemStr = str(item)\n",
        "  numEscrito = num2words(itemStr, lang=\"pt-br\")\n",
        "  numEscritoVirgula = numEscrito + \", \"\n",
        "  pontuacaoEscrita = pontuacaoEscrita + numEscritoVirgula\n",
        "\n",
        "\n",
        "nuvem = WordCloud(background_color=\"white\", height=800, width=600)\n",
        "nuvem.generate(pontuacaoEscrita)\n",
        "\n",
        "plt.imshow(nuvem, interpolation='bilinear')\n",
        "plt.axis(\"off\")\n",
        "\n",
        "nuvem.to_file(\"nuvem_pontuacao.png\")\n",
        "\n"
      ],
      "metadata": {
        "id": "TI6p9f3XrlOX",
        "colab": {
          "base_uri": "https://localhost:8080/",
          "height": 265
        },
        "outputId": "5ef03cde-274b-40d4-9d00-bf980804f8b4"
      },
      "execution_count": null,
      "outputs": [
        {
          "output_type": "execute_result",
          "data": {
            "text/plain": [
              "<wordcloud.wordcloud.WordCloud at 0x7fede8fa2390>"
            ]
          },
          "metadata": {},
          "execution_count": 75
        },
        {
          "output_type": "display_data",
          "data": {
            "text/plain": [
              "<Figure size 432x288 with 1 Axes>"
            ],
            "image/png": "[encoded data removed]"
          },
          "metadata": {
            "needs_background": "light"
          }
        }
      ]
    }
  ]
}